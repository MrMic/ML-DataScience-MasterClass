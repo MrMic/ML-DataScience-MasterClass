import numpy as np
import pandas as pd
import matplotlib.pyplot as plt
import seaborn as sns


df = pd.read_csv('Advertising.csv')


df.head()





X = df.drop('sales',axis=1)


y = df['sales']


from sklearn.model_selection import train_test_split


X_train, X_other, y_train, y_other = train_test_split(X, y, test_size=0.3, random_state=101)


# test_size = 0.5 (50% of 30% other ---> test = 15% of all data)
X_eval, X_test, y_eval, y_test = train_test_split(X_other, y_other, test_size=0.5, random_state=101)


len(df)


len(X_train)


len(X_eval)


len(X_test)


from sklearn.preprocessing import StandardScaler


scaler = StandardScaler()


scaler.fit(X_train)


X_train = scaler.transform(X_train)


X_test = scaler.transform(X_test)


X_eval = scaler.transform(X_eval)


from sklearn.linear_model import Ridge


model_one = Ridge(alpha=100)


model_one.fit(X_train, y_train)


y_eval_pred = model_one.predict(X_eval)


from sklearn.metrics import mean_squared_error


mean_squared_error(y_eval,y_eval_pred)


model_two = Ridge(alpha=1)


model_two.fit(X_train,y_train)


new_y_eval_pred = model_two.predict(X_eval)


mean_squared_error(y_eval, new_y_eval_pred)


y_final_test_pred = model_two.predict(X_test)


mean_squared_error(y_test, y_final_test_pred)



