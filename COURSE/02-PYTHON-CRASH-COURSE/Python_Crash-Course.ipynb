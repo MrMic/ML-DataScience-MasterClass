{
 "cells": [
  {
   "cell_type": "markdown",
   "id": "d3995198-fd47-4a36-a88c-9f2421bdaaec",
   "metadata": {},
   "source": [
    "## Python Crash Course"
   ]
  },
  {
   "cell_type": "code",
   "execution_count": 5,
   "id": "6439e9ea-723e-4c42-9a8e-042b272b2aa7",
   "metadata": {},
   "outputs": [
    {
     "data": {
      "text/plain": [
       "float"
      ]
     },
     "execution_count": 5,
     "metadata": {},
     "output_type": "execute_result"
    }
   ],
   "source": [
    "type(1.0)"
   ]
  },
  {
   "cell_type": "code",
   "execution_count": 6,
   "id": "bc3c575d-59a8-4617-9e4b-6da1333c63fe",
   "metadata": {},
   "outputs": [
    {
     "data": {
      "text/plain": [
       "tuple"
      ]
     },
     "execution_count": 6,
     "metadata": {},
     "output_type": "execute_result"
    }
   ],
   "source": [
    "type((1, 3, 5))"
   ]
  },
  {
   "cell_type": "code",
   "execution_count": 4,
   "id": "9afe8f28-d1e5-4f27-a483-4b1fefab6d2b",
   "metadata": {},
   "outputs": [
    {
     "data": {
      "text/plain": [
       "(2, 3, 0.5, 16, 1)"
      ]
     },
     "execution_count": 4,
     "metadata": {},
     "output_type": "execute_result"
    }
   ],
   "source": [
    "1+1, 1*3, 1/2, 2**4, 3%2"
   ]
  },
  {
   "cell_type": "code",
   "execution_count": 8,
   "id": "29820905-c01c-428c-b613-b826c4c75b38",
   "metadata": {},
   "outputs": [
    {
     "name": "stdout",
     "output_type": "stream",
     "text": [
      "hello\n"
     ]
    },
    {
     "data": {
      "text/plain": [
       "'hello'"
      ]
     },
     "execution_count": 8,
     "metadata": {},
     "output_type": "execute_result"
    }
   ],
   "source": [
    "print(\"hello\")\n",
    "'hello'"
   ]
  },
  {
   "cell_type": "code",
   "execution_count": 9,
   "id": "c61846f5-7462-4a1e-b018-54f887136fd1",
   "metadata": {},
   "outputs": [
    {
     "name": "stdout",
     "output_type": "stream",
     "text": [
      "My name is Mic\n"
     ]
    }
   ],
   "source": [
    "print(\"My name is {}\".format('Mic'))"
   ]
  },
  {
   "cell_type": "code",
   "execution_count": 10,
   "id": "c2a09318-c501-47b3-8c1b-ade88a7beebf",
   "metadata": {},
   "outputs": [
    {
     "name": "stdout",
     "output_type": "stream",
     "text": [
      "First XX, Second YYYY\n"
     ]
    }
   ],
   "source": [
    "print(\"First {x}, Second {y}\".format(x=\"XX\", y=\"YYYY\"))"
   ]
  },
  {
   "cell_type": "code",
   "execution_count": 12,
   "id": "8c4c5fff-8a80-4f2d-ac8b-7887d05b22e7",
   "metadata": {},
   "outputs": [
    {
     "data": {
      "text/plain": [
       "list"
      ]
     },
     "execution_count": 12,
     "metadata": {},
     "output_type": "execute_result"
    }
   ],
   "source": [
    "type([1,2,3])"
   ]
  },
  {
   "cell_type": "code",
   "execution_count": 20,
   "id": "2c04c023-e7cb-411c-b51e-f931608ca93e",
   "metadata": {},
   "outputs": [
    {
     "name": "stdout",
     "output_type": "stream",
     "text": [
      "a\n",
      "c\n",
      "c\n",
      "['NEW', 'b', 'c']\n",
      "['NEW', 'b', 'c', 'd']\n"
     ]
    }
   ],
   "source": [
    "mylist = ['a','b','c']\n",
    "print(mylist[0])\n",
    "print(mylist[2])\n",
    "print(mylist[-1])\n",
    "mylist[0]='NEW'\n",
    "print(mylist)\n",
    "mylist.append('d')\n",
    "print(mylist)"
   ]
  },
  {
   "cell_type": "code",
   "execution_count": 24,
   "id": "caba1e7b-6f8d-4419-87af-42c4197f6368",
   "metadata": {},
   "outputs": [
    {
     "name": "stdout",
     "output_type": "stream",
     "text": [
      "[1, 2, [100, 200]]\n",
      "200\n"
     ]
    }
   ],
   "source": [
    "mylist = [1,2,[100,200]]\n",
    "print(mylist)\n",
    "print(mylist[2][1])"
   ]
  },
  {
   "cell_type": "code",
   "execution_count": 27,
   "id": "dc55b5a4-8331-4dbe-a740-f1ebe79652cc",
   "metadata": {},
   "outputs": [
    {
     "name": "stdout",
     "output_type": "stream",
     "text": [
      "<class 'dict'>\n",
      "{'key1': 'value1', 'key2': 'value2'}\n",
      "value1\n"
     ]
    }
   ],
   "source": [
    "d = {\"key1\": \"value1\", \"key2\": \"value2\"}\n",
    "print(type(d))\n",
    "print(d)\n",
    "print(d[\"key1\"])"
   ]
  },
  {
   "cell_type": "code",
   "execution_count": 28,
   "id": "205c34bd-3764-4fff-9c42-271651ad0897",
   "metadata": {},
   "outputs": [
    {
     "data": {
      "text/plain": [
       "(True, False)"
      ]
     },
     "execution_count": 28,
     "metadata": {},
     "output_type": "execute_result"
    }
   ],
   "source": [
    "True, False"
   ]
  },
  {
   "cell_type": "code",
   "execution_count": 30,
   "id": "eb02afa4-bc66-4dee-9ad0-8a9da93e3a9c",
   "metadata": {},
   "outputs": [
    {
     "name": "stdout",
     "output_type": "stream",
     "text": [
      "<class 'tuple'>\n",
      "(1, 2, 3)\n"
     ]
    }
   ],
   "source": [
    "t = (1,2,3)\n",
    "print(type(t))\n",
    "print(t)"
   ]
  },
  {
   "cell_type": "code",
   "execution_count": 31,
   "id": "76d0cc81-25cd-41d4-810e-efbfd291df41",
   "metadata": {},
   "outputs": [
    {
     "name": "stdout",
     "output_type": "stream",
     "text": [
      "<class 'set'>\n",
      "{1, 2, 3}\n"
     ]
    }
   ],
   "source": [
    "s = {1, 2, 3}\n",
    "print(type(s))\n",
    "print(s)"
   ]
  },
  {
   "cell_type": "code",
   "execution_count": 32,
   "id": "1ecf4a05-9ef7-4262-8514-dfc5190cd434",
   "metadata": {},
   "outputs": [
    {
     "name": "stdout",
     "output_type": "stream",
     "text": [
      "{1, 2, 3}\n"
     ]
    }
   ],
   "source": [
    "s2 = {1, 1, 2, 2, 3, 3}\n",
    "print(s2)"
   ]
  },
  {
   "cell_type": "code",
   "execution_count": null,
   "id": "7c9aa980-decd-4920-a29a-46b4b4fce37a",
   "metadata": {},
   "outputs": [],
   "source": []
  }
 ],
 "metadata": {
  "kernelspec": {
   "display_name": "Python 3 (ipykernel)",
   "language": "python",
   "name": "python3"
  },
  "language_info": {
   "codemirror_mode": {
    "name": "ipython",
    "version": 3
   },
   "file_extension": ".py",
   "mimetype": "text/x-python",
   "name": "python",
   "nbconvert_exporter": "python",
   "pygments_lexer": "ipython3",
   "version": "3.8.12"
  }
 },
 "nbformat": 4,
 "nbformat_minor": 5
}
