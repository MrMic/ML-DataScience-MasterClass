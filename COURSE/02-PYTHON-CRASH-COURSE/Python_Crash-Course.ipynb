{
 "cells": [
  {
   "cell_type": "markdown",
   "id": "d3995198-fd47-4a36-a88c-9f2421bdaaec",
   "metadata": {},
   "source": [
    "## Python Crash Course"
   ]
  },
  {
   "cell_type": "code",
   "execution_count": 1,
   "id": "6439e9ea-723e-4c42-9a8e-042b272b2aa7",
   "metadata": {},
   "outputs": [
    {
     "data": {
      "text/plain": [
       "float"
      ]
     },
     "execution_count": 1,
     "metadata": {},
     "output_type": "execute_result"
    }
   ],
   "source": [
    "type(1.0)"
   ]
  },
  {
   "cell_type": "code",
   "execution_count": 2,
   "id": "bc3c575d-59a8-4617-9e4b-6da1333c63fe",
   "metadata": {},
   "outputs": [
    {
     "data": {
      "text/plain": [
       "tuple"
      ]
     },
     "execution_count": 2,
     "metadata": {},
     "output_type": "execute_result"
    }
   ],
   "source": [
    "type((1, 3, 5))"
   ]
  },
  {
   "cell_type": "code",
   "execution_count": 3,
   "id": "9afe8f28-d1e5-4f27-a483-4b1fefab6d2b",
   "metadata": {},
   "outputs": [
    {
     "data": {
      "text/plain": [
       "(2, 3, 0.5, 16, 1)"
      ]
     },
     "execution_count": 3,
     "metadata": {},
     "output_type": "execute_result"
    }
   ],
   "source": [
    "1+1, 1*3, 1/2, 2**4, 3%2"
   ]
  },
  {
   "cell_type": "code",
   "execution_count": 4,
   "id": "29820905-c01c-428c-b613-b826c4c75b38",
   "metadata": {},
   "outputs": [
    {
     "name": "stdout",
     "output_type": "stream",
     "text": [
      "hello\n"
     ]
    },
    {
     "data": {
      "text/plain": [
       "'hello'"
      ]
     },
     "execution_count": 4,
     "metadata": {},
     "output_type": "execute_result"
    }
   ],
   "source": [
    "print(\"hello\")\n",
    "'hello'"
   ]
  },
  {
   "cell_type": "code",
   "execution_count": 5,
   "id": "c61846f5-7462-4a1e-b018-54f887136fd1",
   "metadata": {},
   "outputs": [
    {
     "name": "stdout",
     "output_type": "stream",
     "text": [
      "My name is Mic\n"
     ]
    }
   ],
   "source": [
    "print(\"My name is {}\".format('Mic'))"
   ]
  },
  {
   "cell_type": "code",
   "execution_count": 6,
   "id": "c2a09318-c501-47b3-8c1b-ade88a7beebf",
   "metadata": {},
   "outputs": [
    {
     "name": "stdout",
     "output_type": "stream",
     "text": [
      "First XX, Second YYYY\n"
     ]
    }
   ],
   "source": [
    "print(\"First {x}, Second {y}\".format(x=\"XX\", y=\"YYYY\"))"
   ]
  },
  {
   "cell_type": "code",
   "execution_count": 7,
   "id": "8c4c5fff-8a80-4f2d-ac8b-7887d05b22e7",
   "metadata": {},
   "outputs": [
    {
     "data": {
      "text/plain": [
       "list"
      ]
     },
     "execution_count": 7,
     "metadata": {},
     "output_type": "execute_result"
    }
   ],
   "source": [
    "type([1,2,3])"
   ]
  },
  {
   "cell_type": "code",
   "execution_count": 8,
   "id": "2c04c023-e7cb-411c-b51e-f931608ca93e",
   "metadata": {},
   "outputs": [
    {
     "name": "stdout",
     "output_type": "stream",
     "text": [
      "a\n",
      "c\n",
      "c\n",
      "['NEW', 'b', 'c']\n",
      "['NEW', 'b', 'c', 'd']\n"
     ]
    }
   ],
   "source": [
    "mylist = ['a','b','c']\n",
    "print(mylist[0])\n",
    "print(mylist[2])\n",
    "print(mylist[-1])\n",
    "mylist[0]='NEW'\n",
    "print(mylist)\n",
    "mylist.append('d')\n",
    "print(mylist)"
   ]
  },
  {
   "cell_type": "code",
   "execution_count": 9,
   "id": "caba1e7b-6f8d-4419-87af-42c4197f6368",
   "metadata": {},
   "outputs": [
    {
     "name": "stdout",
     "output_type": "stream",
     "text": [
      "[1, 2, [100, 200]]\n",
      "200\n"
     ]
    }
   ],
   "source": [
    "mylist = [1,2,[100,200]]\n",
    "print(mylist)\n",
    "print(mylist[2][1])"
   ]
  },
  {
   "cell_type": "code",
   "execution_count": 10,
   "id": "dc55b5a4-8331-4dbe-a740-f1ebe79652cc",
   "metadata": {},
   "outputs": [
    {
     "name": "stdout",
     "output_type": "stream",
     "text": [
      "<class 'dict'>\n",
      "{'key1': 'value1', 'key2': 'value2'}\n",
      "value1\n"
     ]
    }
   ],
   "source": [
    "d = {\"key1\": \"value1\", \"key2\": \"value2\"}\n",
    "print(type(d))\n",
    "print(d)\n",
    "print(d[\"key1\"])"
   ]
  },
  {
   "cell_type": "code",
   "execution_count": 11,
   "id": "205c34bd-3764-4fff-9c42-271651ad0897",
   "metadata": {},
   "outputs": [
    {
     "data": {
      "text/plain": [
       "(True, False)"
      ]
     },
     "execution_count": 11,
     "metadata": {},
     "output_type": "execute_result"
    }
   ],
   "source": [
    "True, False"
   ]
  },
  {
   "cell_type": "code",
   "execution_count": 12,
   "id": "eb02afa4-bc66-4dee-9ad0-8a9da93e3a9c",
   "metadata": {},
   "outputs": [
    {
     "name": "stdout",
     "output_type": "stream",
     "text": [
      "<class 'tuple'>\n",
      "(1, 2, 3)\n"
     ]
    }
   ],
   "source": [
    "t = (1,2,3)\n",
    "print(type(t))\n",
    "print(t)"
   ]
  },
  {
   "cell_type": "code",
   "execution_count": 13,
   "id": "76d0cc81-25cd-41d4-810e-efbfd291df41",
   "metadata": {},
   "outputs": [
    {
     "name": "stdout",
     "output_type": "stream",
     "text": [
      "<class 'set'>\n",
      "{1, 2, 3}\n"
     ]
    }
   ],
   "source": [
    "s = {1, 2, 3}\n",
    "print(type(s))\n",
    "print(s)"
   ]
  },
  {
   "cell_type": "code",
   "execution_count": 14,
   "id": "1ecf4a05-9ef7-4262-8514-dfc5190cd434",
   "metadata": {},
   "outputs": [
    {
     "name": "stdout",
     "output_type": "stream",
     "text": [
      "{1, 2, 3}\n"
     ]
    }
   ],
   "source": [
    "s2 = {1, 1, 2, 2, 3, 3}\n",
    "print(s2)"
   ]
  },
  {
   "cell_type": "code",
   "execution_count": 15,
   "id": "7c9aa980-decd-4920-a29a-46b4b4fce37a",
   "metadata": {},
   "outputs": [
    {
     "name": "stdout",
     "output_type": "stream",
     "text": [
      "1\n",
      "2\n",
      "3\n",
      "4\n",
      "5\n"
     ]
    }
   ],
   "source": [
    "list1 = [1,2,3,4,5]\n",
    "for item in list1:\n",
    "    print(item)\n"
   ]
  },
  {
   "cell_type": "code",
   "execution_count": 16,
   "id": "638e535a-d0bd-4ff5-9b54-8e540c296e88",
   "metadata": {},
   "outputs": [
    {
     "name": "stdout",
     "output_type": "stream",
     "text": [
      "i is 1\n",
      "i is 2\n",
      "i is 3\n",
      "i is 4\n"
     ]
    }
   ],
   "source": [
    "i = 1\n",
    "while i < 5:\n",
    "    print(\"i is {}\".format(i))\n",
    "    i = i + 1"
   ]
  },
  {
   "cell_type": "code",
   "execution_count": 17,
   "id": "70c6e3c5-79d1-407c-a114-fd9806f67c1c",
   "metadata": {},
   "outputs": [
    {
     "data": {
      "text/plain": [
       "[2, 5, 8, 11, 14]"
      ]
     },
     "execution_count": 17,
     "metadata": {},
     "output_type": "execute_result"
    }
   ],
   "source": [
    "list(range(2,15,3))"
   ]
  },
  {
   "cell_type": "markdown",
   "id": "74a61c78-a941-4c2b-95be-7f522ea6034b",
   "metadata": {},
   "source": [
    "## List Comprehension"
   ]
  },
  {
   "cell_type": "code",
   "execution_count": 18,
   "id": "1f84f032-327f-45c5-93e8-3e007a70b837",
   "metadata": {},
   "outputs": [
    {
     "data": {
      "text/plain": [
       "[1, 4, 9, 16, 25]"
      ]
     },
     "execution_count": 18,
     "metadata": {},
     "output_type": "execute_result"
    }
   ],
   "source": [
    "list2 = [1,2,3,4,5]\n",
    "[num**2 for num in list2]"
   ]
  },
  {
   "cell_type": "code",
   "execution_count": 19,
   "id": "878e43e9-4078-4663-8ebb-86069c99b81f",
   "metadata": {},
   "outputs": [
    {
     "name": "stdout",
     "output_type": "stream",
     "text": [
      "Hello NO NAME\n",
      "Hello Mic\n",
      "Hello Test\n",
      "<class 'NoneType'>\n"
     ]
    }
   ],
   "source": [
    "def my_func(name=\"NO NAME\"):\n",
    "    '''\n",
    "    This print out the name\n",
    "    '''\n",
    "    print('Hello ' + name)\n",
    "\n",
    "my_func()\n",
    "my_func('Mic')\n",
    "print(type(my_func('Test')))"
   ]
  },
  {
   "cell_type": "code",
   "execution_count": 20,
   "id": "331fb4fb-d01b-41fe-95ec-aa3ecadd5a60",
   "metadata": {},
   "outputs": [
    {
     "name": "stdout",
     "output_type": "stream",
     "text": [
      "9\n"
     ]
    }
   ],
   "source": [
    "def square(x):\n",
    "    return x**2\n",
    "\n",
    "result = square(3)\n",
    "print(result)"
   ]
  },
  {
   "cell_type": "code",
   "execution_count": 21,
   "id": "0c88832d-a50a-43cf-8c51-27f1b467bc71",
   "metadata": {},
   "outputs": [
    {
     "data": {
      "text/plain": [
       "<function __main__.<lambda>(var)>"
      ]
     },
     "execution_count": 21,
     "metadata": {},
     "output_type": "execute_result"
    }
   ],
   "source": [
    "lambda var: var*2"
   ]
  },
  {
   "cell_type": "code",
   "execution_count": 22,
   "id": "55c96ceb-33c6-469a-b6ac-53655622efb9",
   "metadata": {},
   "outputs": [
    {
     "name": "stdout",
     "output_type": "stream",
     "text": [
      "my name is mic\n",
      "MY NAME IS MIC\n",
      "['My', 'name', 'is', 'Mic']\n"
     ]
    }
   ],
   "source": [
    "st = \"My name is Mic\"\n",
    "print(st.lower())\n",
    "print(st.upper())\n",
    "print(st.split())"
   ]
  },
  {
   "cell_type": "code",
   "execution_count": 23,
   "id": "57485b39-cc23-4d23-9daf-ee63f4874aec",
   "metadata": {},
   "outputs": [
    {
     "name": "stdout",
     "output_type": "stream",
     "text": [
      "dict_keys(['k1', 'k2'])\n",
      "dict_values(['v1', 'v2'])\n",
      "dict_items([('k1', 'v1'), ('k2', 'v2')])\n"
     ]
    }
   ],
   "source": [
    "d = { \"k1\" : \"v1\", \"k2\" : \"v2\"}\n",
    "print(d.keys())\n",
    "print(d.values())\n",
    "print(d.items())"
   ]
  },
  {
   "cell_type": "code",
   "execution_count": null,
   "id": "1eb70e2f-8439-444a-a673-da51e363a9f7",
   "metadata": {},
   "outputs": [],
   "source": []
  }
 ],
 "metadata": {
  "kernelspec": {
   "display_name": "Python 3 (ipykernel)",
   "language": "python",
   "name": "python3"
  },
  "language_info": {
   "codemirror_mode": {
    "name": "ipython",
    "version": 3
   },
   "file_extension": ".py",
   "mimetype": "text/x-python",
   "name": "python",
   "nbconvert_exporter": "python",
   "pygments_lexer": "ipython3",
   "version": "3.8.12"
  }
 },
 "nbformat": 4,
 "nbformat_minor": 5
}
