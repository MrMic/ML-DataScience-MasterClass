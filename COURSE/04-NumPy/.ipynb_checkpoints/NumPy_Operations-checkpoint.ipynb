{
 "cells": [
  {
   "cell_type": "markdown",
   "id": "6f735d14-f660-4146-95c8-c7d8720a8d02",
   "metadata": {},
   "source": [
    "## NumPy Operations"
   ]
  },
  {
   "cell_type": "code",
   "execution_count": 1,
   "id": "b39f4b81-bfbc-459e-9d6b-4965ec56b3d1",
   "metadata": {},
   "outputs": [],
   "source": [
    "import numpy as np"
   ]
  },
  {
   "cell_type": "code",
   "execution_count": 12,
   "id": "f5e2f7fe-1154-4273-8f4e-f66bf5917b80",
   "metadata": {},
   "outputs": [
    {
     "name": "stdout",
     "output_type": "stream",
     "text": [
      "[0 1 2 3 4 5 6 7 8 9]\n",
      "[ 5  6  7  8  9 10 11 12 13 14]\n",
      "[ 0  2  4  6  8 10 12 14 16 18]\n",
      "[0 0 0 0 0 0 0 0 0 0]\n",
      "[0.         1.         1.41421356 1.73205081 2.         2.23606798\n",
      " 2.44948974 2.64575131 2.82842712 3.        ]\n",
      "45\n",
      "4.5\n",
      "9\n",
      "8.25\n",
      "2.8722813232690143\n"
     ]
    }
   ],
   "source": [
    "arr = np.arange(0,10)\n",
    "print(arr)\n",
    "print(arr + 5)\n",
    "print(arr + arr)\n",
    "print(arr - arr)\n",
    "print(np.sqrt(arr))\n",
    "print(arr.sum())\n",
    "print(arr.mean())\n",
    "print(arr.max())\n",
    "print(arr.var())\n",
    "print(arr.std())"
   ]
  },
  {
   "cell_type": "code",
   "execution_count": 18,
   "id": "0cf64bd7-cf9f-4397-8534-fe432223458c",
   "metadata": {},
   "outputs": [
    {
     "name": "stdout",
     "output_type": "stream",
     "text": [
      "[[ 0  1  2  3  4]\n",
      " [ 5  6  7  8  9]\n",
      " [10 11 12 13 14]\n",
      " [15 16 17 18 19]\n",
      " [20 21 22 23 24]]\n",
      "(5, 5)\n",
      "300\n",
      "[50 55 60 65 70]\n",
      "[ 10  35  60  85 110]\n"
     ]
    }
   ],
   "source": [
    "arr2d = np.arange(0,25).reshape(5,5)\n",
    "print(arr2d)\n",
    "print(arr2d.shape)\n",
    "print(arr2d.sum())\n",
    "# Perform sum across the lines\n",
    "print(arr2d.sum(axis=0))\n",
    "# Perform sum across the columns\n",
    "print(arr2d.sum(axis=1))"
   ]
  },
  {
   "cell_type": "code",
   "execution_count": null,
   "id": "1db988e6-d158-4c37-8aa9-94b9c24182b4",
   "metadata": {},
   "outputs": [],
   "source": []
  }
 ],
 "metadata": {
  "kernelspec": {
   "display_name": "Python 3 (ipykernel)",
   "language": "python",
   "name": "python3"
  },
  "language_info": {
   "codemirror_mode": {
    "name": "ipython",
    "version": 3
   },
   "file_extension": ".py",
   "mimetype": "text/x-python",
   "name": "python",
   "nbconvert_exporter": "python",
   "pygments_lexer": "ipython3",
   "version": "3.8.12"
  }
 },
 "nbformat": 4,
 "nbformat_minor": 5
}
