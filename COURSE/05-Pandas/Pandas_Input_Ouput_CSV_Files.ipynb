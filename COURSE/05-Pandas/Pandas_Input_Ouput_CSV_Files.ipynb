{
 "cells": [
  {
   "cell_type": "code",
   "execution_count": 1,
   "id": "3408eba5-7653-49e5-9948-fce81249dd62",
   "metadata": {},
   "outputs": [],
   "source": [
    "import pandas as pd"
   ]
  },
  {
   "cell_type": "code",
   "execution_count": 2,
   "id": "f47cc838-b12c-482e-9f92-e82684fbb15a",
   "metadata": {},
   "outputs": [
    {
     "data": {
      "text/plain": [
       "'/home/mic/DEV/UDEMY_ML-DataScience-MasterClass/COURSE/05-Pandas'"
      ]
     },
     "execution_count": 2,
     "metadata": {},
     "output_type": "execute_result"
    }
   ],
   "source": [
    "pwd"
   ]
  },
  {
   "cell_type": "code",
   "execution_count": 3,
   "id": "b3017e41-b650-4a9a-a0fa-1350784440f4",
   "metadata": {},
   "outputs": [
    {
     "name": "stdout",
     "output_type": "stream",
     "text": [
      "Codeium.ipynb                           Pandas_Time_Date_Methods.ipynb\n",
      "Combining_DF_Concatenation_Merge.ipynb  Pandas_Useful_Methods_1_2.ipynb\n",
      "DataFrame_Part_1_2_3_4.ipynb            Series_Part_1_2.ipynb\n",
      "Pandas_Conditional_Filtering.ipynb      Series_Part_1_2.md\n",
      "\u001b[0m\u001b[01;34mPandas_GroupBy_Operations_files\u001b[0m/        \u001b[01;34mtest_files\u001b[0m/\n",
      "Pandas_GroupBy_Operations.html          test.html\n",
      "Pandas_GroupBy_Operations.ipynb         test.pdf\n",
      "Pandas_Input_Ouput_CSV_Files.ipynb      test.py\n",
      "Pandas-Missing-Data.ipynb               test.qmd\n",
      "Pandas_Text_Methods.ipynb\n"
     ]
    }
   ],
   "source": [
    "ls"
   ]
  },
  {
   "cell_type": "code",
   "execution_count": 4,
   "id": "b9625c39-b9f6-42df-bff5-499201d0563e",
   "metadata": {},
   "outputs": [],
   "source": [
    "import os"
   ]
  },
  {
   "cell_type": "code",
   "execution_count": 5,
   "id": "82b017b9-1c84-466e-b9d4-9ecd0915aefe",
   "metadata": {},
   "outputs": [
    {
     "data": {
      "text/plain": [
       "'/home/mic/DEV/UDEMY_ML-DataScience-MasterClass/COURSE/05-Pandas'"
      ]
     },
     "execution_count": 5,
     "metadata": {},
     "output_type": "execute_result"
    }
   ],
   "source": [
    "os.getcwd()"
   ]
  },
  {
   "cell_type": "code",
   "execution_count": 6,
   "id": "d41089d0-783c-4ccb-88e1-3f4b1363c1fa",
   "metadata": {},
   "outputs": [],
   "source": [
    "df = pd.read_csv('../../DATA/example.csv')"
   ]
  },
  {
   "cell_type": "code",
   "execution_count": 7,
   "id": "4303872a-301e-43f2-8682-899c21731d66",
   "metadata": {},
   "outputs": [
    {
     "data": {
      "text/html": [
       "<div>\n",
       "<style scoped>\n",
       "    .dataframe tbody tr th:only-of-type {\n",
       "        vertical-align: middle;\n",
       "    }\n",
       "\n",
       "    .dataframe tbody tr th {\n",
       "        vertical-align: top;\n",
       "    }\n",
       "\n",
       "    .dataframe thead th {\n",
       "        text-align: right;\n",
       "    }\n",
       "</style>\n",
       "<table border=\"1\" class=\"dataframe\">\n",
       "  <thead>\n",
       "    <tr style=\"text-align: right;\">\n",
       "      <th></th>\n",
       "      <th>a</th>\n",
       "      <th>b</th>\n",
       "      <th>c</th>\n",
       "      <th>d</th>\n",
       "    </tr>\n",
       "  </thead>\n",
       "  <tbody>\n",
       "    <tr>\n",
       "      <th>0</th>\n",
       "      <td>0</td>\n",
       "      <td>1</td>\n",
       "      <td>2</td>\n",
       "      <td>3</td>\n",
       "    </tr>\n",
       "    <tr>\n",
       "      <th>1</th>\n",
       "      <td>4</td>\n",
       "      <td>5</td>\n",
       "      <td>6</td>\n",
       "      <td>7</td>\n",
       "    </tr>\n",
       "    <tr>\n",
       "      <th>2</th>\n",
       "      <td>8</td>\n",
       "      <td>9</td>\n",
       "      <td>10</td>\n",
       "      <td>11</td>\n",
       "    </tr>\n",
       "    <tr>\n",
       "      <th>3</th>\n",
       "      <td>12</td>\n",
       "      <td>13</td>\n",
       "      <td>14</td>\n",
       "      <td>15</td>\n",
       "    </tr>\n",
       "  </tbody>\n",
       "</table>\n",
       "</div>"
      ],
      "text/plain": [
       "    a   b   c   d\n",
       "0   0   1   2   3\n",
       "1   4   5   6   7\n",
       "2   8   9  10  11\n",
       "3  12  13  14  15"
      ]
     },
     "execution_count": 7,
     "metadata": {},
     "output_type": "execute_result"
    }
   ],
   "source": [
    "df"
   ]
  },
  {
   "cell_type": "code",
   "execution_count": 8,
   "id": "5c29e922-c4c1-4831-95cd-35d19319e242",
   "metadata": {},
   "outputs": [],
   "source": [
    "df.to_csv('newFile.csv')"
   ]
  },
  {
   "cell_type": "code",
   "execution_count": 9,
   "id": "40e0c548-ee41-427d-a4c7-b6ee766173cf",
   "metadata": {},
   "outputs": [
    {
     "name": "stdout",
     "output_type": "stream",
     "text": [
      "Codeium.ipynb                           Pandas_Text_Methods.ipynb\n",
      "Combining_DF_Concatenation_Merge.ipynb  Pandas_Time_Date_Methods.ipynb\n",
      "DataFrame_Part_1_2_3_4.ipynb            Pandas_Useful_Methods_1_2.ipynb\n",
      "newFile.csv                             Series_Part_1_2.ipynb\n",
      "Pandas_Conditional_Filtering.ipynb      Series_Part_1_2.md\n",
      "\u001b[0m\u001b[01;34mPandas_GroupBy_Operations_files\u001b[0m/        \u001b[01;34mtest_files\u001b[0m/\n",
      "Pandas_GroupBy_Operations.html          test.html\n",
      "Pandas_GroupBy_Operations.ipynb         test.pdf\n",
      "Pandas_Input_Ouput_CSV_Files.ipynb      test.py\n",
      "Pandas-Missing-Data.ipynb               test.qmd\n"
     ]
    }
   ],
   "source": [
    "ls"
   ]
  },
  {
   "cell_type": "code",
   "execution_count": null,
   "id": "bdc963a0-4147-4daa-a6c7-f15a268db770",
   "metadata": {},
   "outputs": [],
   "source": []
  }
 ],
 "metadata": {
  "kernelspec": {
   "display_name": "Python 3 (ipykernel)",
   "language": "python",
   "name": "python3"
  },
  "language_info": {
   "codemirror_mode": {
    "name": "ipython",
    "version": 3
   },
   "file_extension": ".py",
   "mimetype": "text/x-python",
   "name": "python",
   "nbconvert_exporter": "python",
   "pygments_lexer": "ipython3",
   "version": "3.10.2"
  }
 },
 "nbformat": 4,
 "nbformat_minor": 5
}
