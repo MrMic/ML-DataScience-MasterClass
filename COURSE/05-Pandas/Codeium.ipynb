{
 "cells": [
  {
   "cell_type": "code",
   "execution_count": 1,
   "id": "5bad0e91-5524-4830-938a-40108ab76d89",
   "metadata": {},
   "outputs": [
    {
     "name": "stdout",
     "output_type": "stream",
     "text": [
      "Requirement already satisfied: pip in /home/mic/.pyenv/versions/3.10.2/envs/jupyter_env/lib/python3.10/site-packages (24.2)\n",
      "Collecting codeium-jupyter\n",
      "  Downloading codeium_jupyter-2.0.0-py3-none-any.whl.metadata (6.0 kB)\n",
      "Downloading codeium_jupyter-2.0.0-py3-none-any.whl (520 kB)\n",
      "Installing collected packages: codeium-jupyter\n",
      "Successfully installed codeium-jupyter-2.0.0\n"
     ]
    }
   ],
   "source": [
    "import sys\n",
    "!{sys.executable} -m pip install -U pip\n",
    "!{sys.executable} -m pip install -U codeium-jupyter"
   ]
  },
  {
   "cell_type": "code",
   "execution_count": null,
   "id": "7b614113-060a-4c18-8f01-704fab818bd5",
   "metadata": {},
   "outputs": [],
   "source": []
  }
 ],
 "metadata": {
  "kernelspec": {
   "display_name": "Python 3 (ipykernel)",
   "language": "python",
   "name": "python3"
  },
  "language_info": {
   "codemirror_mode": {
    "name": "ipython",
    "version": 3
   },
   "file_extension": ".py",
   "mimetype": "text/x-python",
   "name": "python",
   "nbconvert_exporter": "python",
   "pygments_lexer": "ipython3",
   "version": "3.10.2"
  }
 },
 "nbformat": 4,
 "nbformat_minor": 5
}
