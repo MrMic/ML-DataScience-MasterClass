{
 "cells": [
  {
   "cell_type": "code",
   "execution_count": 1,
   "id": "bcadcb05-dd3f-46dd-b275-160811c69b74",
   "metadata": {},
   "outputs": [],
   "source": [
    "import numpy as np"
   ]
  },
  {
   "cell_type": "code",
   "execution_count": 2,
   "id": "384c87bb-1dfa-4d16-b925-7547227cc2cd",
   "metadata": {},
   "outputs": [],
   "source": [
    "import pandas as pd"
   ]
  },
  {
   "cell_type": "code",
   "execution_count": 3,
   "id": "76938cac-8491-4a18-abc9-881238b0bb5c",
   "metadata": {},
   "outputs": [],
   "source": [
    "# help(pd.Series)"
   ]
  },
  {
   "cell_type": "code",
   "execution_count": 4,
   "id": "b9a9b812-c7f7-4a8c-a59e-040cbfcc874f",
   "metadata": {},
   "outputs": [],
   "source": [
    "myindex = ['USA', 'Canada', 'Mexico']"
   ]
  },
  {
   "cell_type": "code",
   "execution_count": 5,
   "id": "6b0b1c81-972c-464f-bc45-cabfb4feee4e",
   "metadata": {},
   "outputs": [],
   "source": [
    "mydata = [1776, 1867, 1821]"
   ]
  },
  {
   "cell_type": "code",
   "execution_count": 6,
   "id": "76071165-9dca-4034-bc04-085b25e7a5f4",
   "metadata": {},
   "outputs": [
    {
     "name": "stdout",
     "output_type": "stream",
     "text": [
      "USA       1776\n",
      "Canada    1867\n",
      "Mexico    1821\n",
      "dtype: int64\n"
     ]
    },
    {
     "data": {
      "text/plain": [
       "pandas.core.series.Series"
      ]
     },
     "execution_count": 6,
     "metadata": {},
     "output_type": "execute_result"
    }
   ],
   "source": [
    "myser = pd.Series(data=mydata, index=myindex)\n",
    "print(myser)\n",
    "type(myser)"
   ]
  },
  {
   "cell_type": "code",
   "execution_count": 7,
   "id": "e54b90b1-07c5-4d99-ae4a-f3a54d53a5e3",
   "metadata": {},
   "outputs": [
    {
     "name": "stdout",
     "output_type": "stream",
     "text": [
      "1776\n",
      "1776\n"
     ]
    }
   ],
   "source": [
    "print(myser[0])\n",
    "print(myser['USA'])"
   ]
  },
  {
   "cell_type": "code",
   "execution_count": 8,
   "id": "6de704a3-1373-42f6-93b6-e8d906aaf7b1",
   "metadata": {},
   "outputs": [],
   "source": [
    "ages = {'Sam':5, 'Frank':10, 'Spike':7}"
   ]
  },
  {
   "cell_type": "code",
   "execution_count": 9,
   "id": "6e150840-78ae-45f1-9825-f70bc076898f",
   "metadata": {},
   "outputs": [
    {
     "data": {
      "text/plain": [
       "Sam       5\n",
       "Frank    10\n",
       "Spike     7\n",
       "dtype: int64"
      ]
     },
     "execution_count": 9,
     "metadata": {},
     "output_type": "execute_result"
    }
   ],
   "source": [
    "pd.Series(ages)"
   ]
  },
  {
   "cell_type": "code",
   "execution_count": 10,
   "id": "c6307a10-1e7a-4fd7-832f-913de0143220",
   "metadata": {},
   "outputs": [
    {
     "data": {
      "text/plain": [
       "pandas.core.series.Series"
      ]
     },
     "execution_count": 10,
     "metadata": {},
     "output_type": "execute_result"
    }
   ],
   "source": [
    "type(pd.Series(ages))"
   ]
  },
  {
   "cell_type": "code",
   "execution_count": 11,
   "id": "c7c87f72-7768-47a0-8aac-4863a223f200",
   "metadata": {},
   "outputs": [],
   "source": [
    "q1 = {'Japan': 80, 'China': 450, 'India': 200, 'USA': 250}\n",
    "q2 = {'Brazil': 100, 'China': 500, 'India': 210, 'USA': 260}"
   ]
  },
  {
   "cell_type": "code",
   "execution_count": 12,
   "id": "761b5cec-b965-4a03-ac4f-4e5db9445627",
   "metadata": {},
   "outputs": [],
   "source": [
    "sales_q1 = pd.Series(q1)\n",
    "sales_q2 = pd.Series(q2)"
   ]
  },
  {
   "cell_type": "code",
   "execution_count": 13,
   "id": "72671f8c-fa9d-4908-82b0-0da2ab226121",
   "metadata": {},
   "outputs": [
    {
     "name": "stdout",
     "output_type": "stream",
     "text": [
      "Japan     80\n",
      "China    450\n",
      "India    200\n",
      "USA      250\n",
      "dtype: int64\n",
      "Brazil    100\n",
      "China     500\n",
      "India     210\n",
      "USA       260\n",
      "dtype: int64\n"
     ]
    }
   ],
   "source": [
    "print(sales_q1)\n",
    "print(sales_q2)"
   ]
  },
  {
   "cell_type": "code",
   "execution_count": 14,
   "id": "eb5cfb7a-5d61-45aa-a7c5-83df920d7ddc",
   "metadata": {},
   "outputs": [
    {
     "name": "stdout",
     "output_type": "stream",
     "text": [
      "80\n",
      "80\n"
     ]
    }
   ],
   "source": [
    "print(sales_q1['Japan'])\n",
    "print(sales_q1[0])"
   ]
  },
  {
   "cell_type": "code",
   "execution_count": 15,
   "id": "423d2755-a85a-4f09-8bda-70245ba40c22",
   "metadata": {},
   "outputs": [
    {
     "data": {
      "text/plain": [
       "Index(['Japan', 'China', 'India', 'USA'], dtype='object')"
      ]
     },
     "execution_count": 15,
     "metadata": {},
     "output_type": "execute_result"
    }
   ],
   "source": [
    "sales_q1.keys()"
   ]
  },
  {
   "cell_type": "code",
   "execution_count": 16,
   "id": "732d22da-39fe-49ae-8100-e8f9b3dd5885",
   "metadata": {},
   "outputs": [
    {
     "data": {
      "text/plain": [
       "Japan    160\n",
       "China    900\n",
       "India    400\n",
       "USA      500\n",
       "dtype: int64"
      ]
     },
     "execution_count": 16,
     "metadata": {},
     "output_type": "execute_result"
    }
   ],
   "source": [
    "sales_q1 * 2"
   ]
  },
  {
   "cell_type": "code",
   "execution_count": 17,
   "id": "78e2297d-a7b8-4065-a2e2-c83251026537",
   "metadata": {},
   "outputs": [
    {
     "data": {
      "text/plain": [
       "Brazil      NaN\n",
       "China     950.0\n",
       "India     410.0\n",
       "Japan       NaN\n",
       "USA       510.0\n",
       "dtype: float64"
      ]
     },
     "execution_count": 17,
     "metadata": {},
     "output_type": "execute_result"
    }
   ],
   "source": [
    "sales_q1 + sales_q2"
   ]
  },
  {
   "cell_type": "code",
   "execution_count": 18,
   "id": "8d300a22-e350-4518-b9e0-fb553facea8c",
   "metadata": {},
   "outputs": [
    {
     "data": {
      "text/plain": [
       "Brazil    100.0\n",
       "China     950.0\n",
       "India     410.0\n",
       "Japan      80.0\n",
       "USA       510.0\n",
       "dtype: float64"
      ]
     },
     "execution_count": 18,
     "metadata": {},
     "output_type": "execute_result"
    }
   ],
   "source": [
    "sales_q1.add(sales_q2,fill_value=0)"
   ]
  },
  {
   "cell_type": "code",
   "execution_count": null,
   "id": "f71605c5-da9d-4c35-a7eb-bd9412ca04ab",
   "metadata": {},
   "outputs": [],
   "source": []
  }
 ],
 "metadata": {
  "kernelspec": {
   "display_name": "Python 3 (ipykernel)",
   "language": "python",
   "name": "python3"
  },
  "language_info": {
   "codemirror_mode": {
    "name": "ipython",
    "version": 3
   },
   "file_extension": ".py",
   "mimetype": "text/x-python",
   "name": "python",
   "nbconvert_exporter": "python",
   "pygments_lexer": "ipython3",
   "version": "3.10.2"
  }
 },
 "nbformat": 4,
 "nbformat_minor": 5
}
